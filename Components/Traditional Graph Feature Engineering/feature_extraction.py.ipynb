{
  "nbformat": 4,
  "nbformat_minor": 0,
  "metadata": {
    "colab": {
      "provenance": []
    },
    "kernelspec": {
      "name": "python3",
      "display_name": "Python 3"
    },
    "language_info": {
      "name": "python"
    }
  },
  "cells": [
    {
      "cell_type": "code",
      "source": [],
      "metadata": {
        "id": "Ov4wM6rvPc7Z"
      },
      "execution_count": null,
      "outputs": []
    },
    {
      "cell_type": "code",
      "source": [
        "personalized_networks = {}\n",
        "\n",
        "death_graph2vec_embeddings = {}\n",
        "\n",
        "for patient_id, patient_graph in personalized_networks.items():\n",
        "    G = patient_graph\n",
        "\n",
        "    max_subgraph = max(nx.connected_components(G), key=len)\n",
        "    max_subgraph = G.subgraph(max_subgraph)\n",
        "\n",
        "    num_nodes = len(max_subgraph.nodes)\n",
        "    num_edges = len(max_subgraph.edges)\n",
        "    average_clustering = nx.average_clustering(max_subgraph)\n",
        "    subgraph_diameter = nx.diameter(max_subgraph)\n",
        "\n",
        "    subgraph_feature_vector = [\n",
        "        num_nodes,\n",
        "        num_edges,\n",
        "        average_clustering,\n",
        "        subgraph_diameter,\n",
        "    ]\n",
        "\n",
        "    num_nodes = len(G.nodes)\n",
        "    num_edges = len(G.edges)\n",
        "    average_clustering = nx.average_clustering(G)\n",
        "    num_connected_components = nx.number_connected_components(G)\n",
        "\n",
        "    feature_vector = [\n",
        "        num_nodes,\n",
        "        num_edges,\n",
        "        average_clustering,\n",
        "        num_connected_components,\n",
        "    ]\n",
        "\n",
        "    node_degrees = dict(G.degree())\n",
        "    degree_vector = [node_degrees.get(node, 0) for node in range(36)]\n",
        "    feature_vector.extend(degree_vector)\n",
        "    feature_vector.extend(subgraph_feature_vector)\n",
        "\n",
        "    feature_vector.append(0)\n",
        "\n",
        "    death_graph2vec_embeddings[patient_id] = feature_vector\n"
      ],
      "metadata": {
        "id": "J4zdcl3APdO6"
      },
      "execution_count": null,
      "outputs": []
    }
  ]
}
