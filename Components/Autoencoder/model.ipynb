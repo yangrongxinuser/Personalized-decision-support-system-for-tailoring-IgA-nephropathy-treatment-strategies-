{
  "cells": [
    {
      "cell_type": "code",
      "execution_count": null,
      "metadata": {
        "id": "VI9j5Wb6td6a"
      },
      "outputs": [],
      "source": [
        "import torch\n",
        "import torch.nn as nn\n",
        "import torch.optim as optim\n",
        "\n",
        "\n",
        "encoder_filename = 'encoder_model.pth'\n",
        "\n",
        "\n",
        "# 定义模型\n",
        "class Encoder(nn.Module):\n",
        "    def __init__(self):\n",
        "        super(Encoder, self).__init__()\n",
        "        self.encoder = nn.Sequential(\n",
        "            nn.Linear(36*36, 1*44),\n",
        "            nn.Linear(1*44,1*44),\n",
        "            nn.ReLU()\n",
        "        )\n",
        "\n",
        "    def forward(self, x):\n",
        "\n",
        "        x=x.flatten()\n",
        "        #print(x.shape)\n",
        "        encoded = self.encoder(x)\n",
        "\n",
        "\n",
        "        return encoded\n",
        "\n",
        "class Decoder(nn.Module):\n",
        "    def __init__(self):\n",
        "        super(Decoder, self).__init__()\n",
        "        self.decoder = nn.Sequential(\n",
        "            nn.Linear(44, 36*36),\n",
        "            nn.Linear(36*36, 36*36),\n",
        "            nn.Sigmoid()\n",
        "        )\n",
        "\n",
        "    def forward(self, encoded):\n",
        "        decoded = self.decoder(encoded)\n",
        "        #print(decoded.shape)\n",
        "        decoded = decoded.view(1, 36, 36)\n",
        "        return decoded\n",
        "\n",
        "class Autoencoder(nn.Module):\n",
        "    def __init__(self):\n",
        "        super(Autoencoder,self).__init__()\n",
        "        self.encoder = Encoder()\n",
        "        self.decoder = Decoder()\n",
        "\n",
        "    def forward(self, x):\n",
        "        encoded = self.encoder(x)\n",
        "        decoded = self.decoder(encoded)\n",
        "        return encoded, decoded"
      ]
    },
    {
      "cell_type": "code",
      "execution_count": null,
      "metadata": {
        "id": "HnWENYnFfpuD"
      },
      "outputs": [],
      "source": [
        "device = torch.device(\"cuda:0\" if torch.cuda.is_available() else \"cpu\")\n",
        "\n",
        "\n",
        "\n",
        "encoder_filename = 'encoder_model.pth'\n",
        "\n",
        "\n",
        "# 创建一个新的Encoder实例\n",
        "loaded_encoder = Encoder().to(device)\n",
        "\n",
        "# 加载保存的Encoder参数状态字典\n",
        "loaded_encoder.load_state_dict(torch.load(encoder_filename, map_location=torch.device('cpu')))\n",
        "\n",
        "# 设置Encoder为评估模式\n",
        "loaded_encoder.eval()\n",
        "\n",
        "\n",
        "\n"
      ]
    }
  ],
  "metadata": {
    "colab": {
      "provenance": []
    },
    "kernelspec": {
      "display_name": "Python 3",
      "name": "python3"
    },
    "language_info": {
      "name": "python"
    }
  },
  "nbformat": 4,
  "nbformat_minor": 0
}
